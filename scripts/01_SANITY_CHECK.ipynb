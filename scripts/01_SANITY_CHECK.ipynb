{
 "cells": [
  {
   "cell_type": "code",
   "execution_count": null,
   "id": "96bab4b7-d807-47c4-a721-826d5211a581",
   "metadata": {},
   "outputs": [],
   "source": [
    "import pandas as pd\n",
    "import numpy as np\n",
    "import joblib\n",
    "from tqdm.notebook import tqdm\n",
    "import pickle\n",
    "import random\n",
    "from collections import Counter\n",
    "import json\n",
    "from FlagEmbedding import FlagModel\n",
    "from glob import glob\n",
    "from unicodedata import normalize\n",
    "from nltk.tokenize import word_tokenize\n",
    "from os import path\n",
    "import os\n",
    "import shutil\n",
    "import re\n",
    "from sklearn.metrics.pairwise import cosine_similarity\n",
    "from sklearn.decomposition import PCA\n",
    "from sentence_transformers import SentenceTransformer\n",
    "from sklearn.preprocessing import StandardScaler\n",
    "from sentence_transformers import SentenceTransformer"
   ]
  },
  {
   "cell_type": "code",
   "execution_count": 5,
   "id": "32ab0e8d-94e4-4e48-a83f-d3a5f39ccdc1",
   "metadata": {},
   "outputs": [],
   "source": [
    "sns.set_context(\"talk\")\n",
    "sns.set_theme(style='white')\n",
    "sns.set_style(\"whitegrid\")\n",
    "sns.set_palette('bright')"
   ]
  },
  {
   "cell_type": "code",
   "execution_count": 2,
   "id": "95a1a6d2-8db1-424b-b207-4ad8d705eca4",
   "metadata": {},
   "outputs": [],
   "source": [
    "model = FlagModel('crazyjeannot/fr_literary_bge_base',\n",
    "                  query_instruction_for_retrieval=\"\",\n",
    "                  use_fp16=True) "
   ]
  },
  {
   "cell_type": "code",
   "execution_count": 3,
   "id": "975bf7cf-c36e-455f-baaa-24a53317719c",
   "metadata": {},
   "outputs": [
    {
     "name": "stderr",
     "output_type": "stream",
     "text": [
      "/usr/local/lib/python3.9/dist-packages/torch/_utils.py:831: UserWarning: TypedStorage is deprecated. It will be removed in the future and UntypedStorage will be the only storage class. This should only matter to you if you are using storages directly.  To access UntypedStorage directly, use tensor.untyped_storage() instead of tensor.storage()\n",
      "  return self.fget.__get__(instance, owner)()\n"
     ]
    }
   ],
   "source": [
    "model = FlagModel('BAAI/bge-m3',\n",
    "                  query_instruction_for_retrieval=\"\",\n",
    "                  use_fp16=True) "
   ]
  },
  {
   "cell_type": "code",
   "execution_count": 3,
   "id": "87584fc7-6ce8-4681-b51c-3d0553a3a8ab",
   "metadata": {},
   "outputs": [],
   "source": [
    "def calculate_cosine_distance(df):\n",
    "    embedding_vectors = df.values\n",
    "    cosine_similarity_matrix = cosine_similarity(embedding_vectors)\n",
    "    cosine_distance_matrix = cosine_similarity_matrix\n",
    "    cosine_distance_df = pd.DataFrame(cosine_distance_matrix, index=df.index, columns=df.index)\n",
    "    return cosine_distance_df"
   ]
  },
  {
   "cell_type": "code",
   "execution_count": 7,
   "id": "a7db372e-2853-4988-989f-82cbfe448595",
   "metadata": {},
   "outputs": [],
   "source": [
    "def clean_text(txt):\n",
    "    txt_res = normalize(\"NFKD\", txt).replace('\\xa0', ' ')\n",
    "    txt_res = txt_res.replace(\"\\\\\", \"\").replace('\\\\xa0', '')\n",
    "    return txt_res"
   ]
  },
  {
   "cell_type": "code",
   "execution_count": 11,
   "id": "3613164d-bde6-46f0-9497-ad2a9815148c",
   "metadata": {},
   "outputs": [],
   "source": [
    "def get_embeddings(path_name, N_tirages=500, M_words_per_passages=512):\n",
    "    index_tmp, sentences_tmp, novels_tmp = [], [], []\n",
    "    for doc in tqdm(glob(path_name)):\n",
    "        \n",
    "        doc_name = path.splitext(path.basename(doc))[0]\n",
    "        #print(doc_name)\n",
    "        with open(doc, encoding=\"utf8\") as file:\n",
    "            text = str(file.read()).lower()\n",
    "            text_clean = clean_text(text) # enleve les accents\n",
    "            text_clean = re.sub(r'[^\\w\\s]', '', text_clean)  # garde seulement les suites de caractère\n",
    "\n",
    "        current_words = [word for word in word_tokenize(text_clean)]\n",
    "        \n",
    "        passages_indices = [random.randint(0, len(current_words) - (M_words_per_passages+1)) for _ in range(N_tirages)]\n",
    "            # passages is list of N str (and str is joined M sentences)\n",
    "        passages = [\" \".join(current_words[indice:indice+M_words_per_passages]) for indice in passages_indices]\n",
    "        \n",
    "        index_passages = [doc_name+\"_passage-\"+str(j)+\"_sentence-\"+str(passages_indices[j]) for j in range(N_tirages)]\n",
    "\n",
    "        sentences_tmp += passages\n",
    "        index_tmp += index_passages\n",
    "\n",
    "        #index_romans = ['_'.join(doc_name.split(\"_\")[:-1]) for _ in range(N_tirages)]\n",
    "        novels_tmp += [doc_name for _ in range(N_tirages)]\n",
    "        \n",
    "    print(len(sentences_tmp), len(index_tmp))\n",
    "    print(\"GET PASSAGES OK\")\n",
    "    embeddings_raw = model.encode(sentences_tmp, # list of str\n",
    "                            #batch_size=12, \n",
    "                            #max_length=512,#8192,#512\n",
    "                            )#['dense_vecs']#['dense_vecs']\n",
    "    embeddings = [elem.tolist() for elem in embeddings_raw]\n",
    "    scaler = StandardScaler()\n",
    "    scaled_embeddings = scaler.fit_transform(embeddings)\n",
    "    \n",
    "    df_tmp = pd.DataFrame({'novel_name': novels_tmp, 'index_name': index_tmp, 'embeddings': scaled_embeddings.tolist()})        \n",
    "    df_tmp['embeddings'] = df_tmp['embeddings'].apply(np.array)\n",
    "    \n",
    "    #embedding_tmp = pd.DataFrame(embeddings, columns=[f'dim_{i}' for i in range(1024)])\n",
    "    #print(embedding_tmp)\n",
    "    num_dimensions = len(embeddings[0])\n",
    "    embedding_columns_tmp = pd.DataFrame(df_tmp['embeddings'].tolist(), columns=[f'dim_{i}' for i in range(num_dimensions)])\n",
    "\n",
    "    #df_normalized = normalize_vectors_z_score(embedding_columns_tmp)#normalize_vectors_z_score, normalize_vectors\n",
    "    #df_normalized[\"index_name\"] = df_normalized.index\n",
    "    #df_tmp['embeddings'] = df_normalized.values.tolist()\n",
    "    df_tmp['embeddings'] = embedding_columns_tmp.values.tolist()\n",
    "    df_tmp['embeddings'] = df_tmp['embeddings'].apply(np.array)\n",
    "    \n",
    "    #return df_tmp\n",
    "    mean_embeddings = df_tmp.groupby('novel_name')['embeddings'].mean()\n",
    "    unique_novel_names = list(df_tmp.groupby('novel_name').groups.keys())\n",
    "\n",
    "    mean_embeddings_list = mean_embeddings.tolist()    \n",
    "    df_mean_embeddings = pd.DataFrame({'novel_name': unique_novel_names, 'mean_embeddings': mean_embeddings_list})\n",
    "\n",
    "    num_dimensions = len(mean_embeddings_list[0])\n",
    "    embedding_columns = pd.DataFrame(df_mean_embeddings['mean_embeddings'].tolist(), columns=[f'dim_{i}' for i in range(num_dimensions)])\n",
    "    df_mean_embeddings_final = pd.concat([df_mean_embeddings['novel_name'], embedding_columns], axis=1)\n",
    "\n",
    "    return df_mean_embeddings_final"
   ]
  },
  {
   "cell_type": "code",
   "execution_count": 12,
   "id": "7122e996-e60b-4bf5-b630-346a801c693b",
   "metadata": {},
   "outputs": [],
   "source": [
    "def get_most_similar(df, novel_name, top_n=5):\n",
    "    # Get the row corresponding to the novel_name\n",
    "    row = df.loc[novel_name]\n",
    "    # Sort the row in descending order and get the top_n indices\n",
    "    most_similar = row.sort_values(ascending=False)[:top_n].index.tolist()\n",
    "    return most_similar"
   ]
  },
  {
   "cell_type": "code",
   "execution_count": 13,
   "id": "0a21b5ff-bb3d-4898-9115-ab468cf95b6f",
   "metadata": {},
   "outputs": [],
   "source": [
    "def sanity_check(df, topN=5):\n",
    "    good_accuracy, len_test = 0, 0\n",
    "\n",
    "    for novel_name in df.index:\n",
    "        most_similar = get_most_similar(df, novel_name, topN)\n",
    "        most_similar_racine = ['_'.join(elem.split('_')[:-1]) if len(elem.split('_'))>4 else elem for elem in most_similar]\n",
    "        roman_racine_courant = '_'.join(novel_name.split('_')[:-1]) if len(novel_name.split('_'))>4 else novel_name\n",
    "            \n",
    "        for novel_racine_similar in most_similar_racine:\n",
    "            len_test += 1\n",
    "            if novel_racine_similar == roman_racine_courant:\n",
    "                good_accuracy += 1\n",
    "                #print(novel_name)\n",
    "    print(good_accuracy, len_test)\n",
    "    print(good_accuracy/len_test)\n",
    "\n",
    "    return good_accuracy/len_test \n"
   ]
  },
  {
   "cell_type": "markdown",
   "id": "2dfceade-d05f-4b1f-a1f7-220ebc335734",
   "metadata": {},
   "source": [
    "## SANITY CHECK - N=1000"
   ]
  },
  {
   "cell_type": "code",
   "execution_count": null,
   "id": "df84a3ba-6479-4f15-bbc2-e53a250972f9",
   "metadata": {
    "scrolled": true
   },
   "outputs": [
    {
     "name": "stdout",
     "output_type": "stream",
     "text": [
      "Processing N_tirages=5...\n"
     ]
    },
    {
     "data": {
      "application/vnd.jupyter.widget-view+json": {
       "model_id": "4e12fc57a57143abb5e10c1224222bee",
       "version_major": 2,
       "version_minor": 0
      },
      "text/plain": [
       "  0%|          | 0/5000 [00:00<?, ?it/s]"
      ]
     },
     "metadata": {},
     "output_type": "display_data"
    },
    {
     "name": "stdout",
     "output_type": "stream",
     "text": [
      "25000 25000\n",
      "GET PASSAGES OK\n"
     ]
    },
    {
     "name": "stderr",
     "output_type": "stream",
     "text": [
      "Inference Embeddings: 100%|███████████████████████████████████████████████████████████████████████████████████████████████████████████████████████████████████| 98/98 [03:05<00:00,  1.89s/it]\n"
     ]
    },
    {
     "name": "stdout",
     "output_type": "stream",
     "text": [
      "21999 25000\n",
      "0.87996\n",
      "[0.87996]\n",
      "Processing N_tirages=10...\n"
     ]
    },
    {
     "data": {
      "application/vnd.jupyter.widget-view+json": {
       "model_id": "c4ab36ac288542fb9710eef67019d52f",
       "version_major": 2,
       "version_minor": 0
      },
      "text/plain": [
       "  0%|          | 0/5000 [00:00<?, ?it/s]"
      ]
     },
     "metadata": {},
     "output_type": "display_data"
    },
    {
     "name": "stdout",
     "output_type": "stream",
     "text": [
      "50000 50000\n",
      "GET PASSAGES OK\n"
     ]
    },
    {
     "name": "stderr",
     "output_type": "stream",
     "text": [
      "Inference Embeddings: 100%|█████████████████████████████████████████████████████████████████████████████████████████████████████████████████████████████████| 196/196 [05:44<00:00,  1.76s/it]\n"
     ]
    },
    {
     "name": "stdout",
     "output_type": "stream",
     "text": [
      "24031 25000\n",
      "0.96124\n",
      "[0.87996, 0.96124]\n",
      "Processing N_tirages=20...\n"
     ]
    },
    {
     "data": {
      "application/vnd.jupyter.widget-view+json": {
       "model_id": "428df204959441439eae9f157862bd95",
       "version_major": 2,
       "version_minor": 0
      },
      "text/plain": [
       "  0%|          | 0/5000 [00:00<?, ?it/s]"
      ]
     },
     "metadata": {},
     "output_type": "display_data"
    },
    {
     "name": "stdout",
     "output_type": "stream",
     "text": [
      "100000 100000\n",
      "GET PASSAGES OK\n"
     ]
    },
    {
     "name": "stderr",
     "output_type": "stream",
     "text": [
      "Inference Embeddings: 100%|█████████████████████████████████████████████████████████████████████████████████████████████████████████████████████████████████| 391/391 [11:32<00:00,  1.77s/it]\n"
     ]
    },
    {
     "name": "stdout",
     "output_type": "stream",
     "text": [
      "24696 25000\n",
      "0.98784\n",
      "[0.87996, 0.96124, 0.98784]\n",
      "Processing N_tirages=50...\n"
     ]
    },
    {
     "data": {
      "application/vnd.jupyter.widget-view+json": {
       "model_id": "33dc026979704e5ea235413465894bc4",
       "version_major": 2,
       "version_minor": 0
      },
      "text/plain": [
       "  0%|          | 0/5000 [00:00<?, ?it/s]"
      ]
     },
     "metadata": {},
     "output_type": "display_data"
    },
    {
     "name": "stdout",
     "output_type": "stream",
     "text": [
      "250000 250000\n",
      "GET PASSAGES OK\n"
     ]
    },
    {
     "name": "stderr",
     "output_type": "stream",
     "text": [
      "Inference Embeddings: 100%|█████████████████████████████████████████████████████████████████████████████████████████████████████████████████████████████████| 977/977 [28:58<00:00,  1.78s/it]\n"
     ]
    },
    {
     "name": "stdout",
     "output_type": "stream",
     "text": [
      "24905 25000\n",
      "0.9962\n",
      "[0.87996, 0.96124, 0.98784, 0.9962]\n",
      "Processing N_tirages=100...\n"
     ]
    },
    {
     "data": {
      "application/vnd.jupyter.widget-view+json": {
       "model_id": "80513482d45f402db372c04d535623b9",
       "version_major": 2,
       "version_minor": 0
      },
      "text/plain": [
       "  0%|          | 0/5000 [00:00<?, ?it/s]"
      ]
     },
     "metadata": {},
     "output_type": "display_data"
    }
   ],
   "source": [
    "TIRAGES = [100, 50, 20, 10, 5, 4, 3, 2, 1]\n",
    "TIRAGES_reversed = TIRAGES[::-1]\n",
    "results_list = []\n",
    "\n",
    "for tirage in TIRAGES_reversed:\n",
    "    print(f\"Processing N_tirages={tirage}...\")\n",
    "    \n",
    "    # Step 1: Get embeddings with the current tirage value\n",
    "    embeddings = get_embeddings(\"/data/jbarre/selected_gallica_1000/*.txt\", N_tirages=tirage)\n",
    "    \n",
    "    # Step 2: Set the index\n",
    "    embeddings.set_index([\"novel_name\"], inplace=True)\n",
    "    \n",
    "    # Step 3: Calculate cosine distance\n",
    "    cosine_distance = calculate_cosine_distance(embeddings)\n",
    "    \n",
    "    # Step 4: Run the sanity check\n",
    "    res = sanity_check(cosine_distance, 5)\n",
    "    \n",
    "    # Step 5: Store the result in the list\n",
    "    results_list.append(res)\n",
    "    print(results_list)"
   ]
  },
  {
   "cell_type": "code",
   "execution_count": null,
   "id": "88f82aec-96f5-4ec9-8ec7-f925c825a632",
   "metadata": {},
   "outputs": [],
   "source": []
  },
  {
   "cell_type": "code",
   "execution_count": 3,
   "id": "6c067bbf-4c2d-4cf2-bfcb-e45934fb3437",
   "metadata": {},
   "outputs": [],
   "source": [
    "TIRAGES = [1, 2, 3, 4, 5, 10, 20, 50, 100]\n",
    "BGE_M3 = [0.35476, 0.53984, 0.68088, 0.76912, 0.8282, 0.95072, 0.98508, 0.99544, 1.0]\n",
    "FR_LITERARY_BGE = [0.44952, 0.64204, 0.7664, 0.84132, 0.88784, 0.96952, 0.99196, 1.0, 1.0]"
   ]
  },
  {
   "cell_type": "code",
   "execution_count": 6,
   "id": "cc52c37b-e893-4969-8ecb-a6a999e3a4fb",
   "metadata": {},
   "outputs": [
    {
     "data": {
      "image/png": "[encoded data removed]",
      "text/plain": [
       "<Figure size 1000x600 with 1 Axes>"
      ]
     },
     "metadata": {},
     "output_type": "display_data"
    }
   ],
   "source": [
    "# Create a seaborn scatter plot\n",
    "plt.figure(figsize=(10, 6))\n",
    "sns.lineplot(x=TIRAGES, y=BGE_M3, marker='o', label=\"bge\")\n",
    "sns.lineplot(x=TIRAGES, y=FR_LITERARY_BGE, marker='o', label=\"fr_literary_bge\")\n",
    "plt.xscale('log')\n",
    "plt.xticks(ticks=TIRAGES)\n",
    "# Set the labels and title\n",
    "plt.xlabel(\"N draws\")\n",
    "plt.ylabel(\"Accuracy\")\n",
    "\n",
    "# Save the figure as a PNG file\n",
    "plt.savefig('TIRAGES_RESULT.png', format='png', bbox_inches='tight', dpi=400)\n",
    "\n",
    "# Show the plot\n",
    "plt.show()"
   ]
  },
  {
   "cell_type": "code",
   "execution_count": null,
   "id": "dd6aedb4-6301-439c-bef9-9209c199ee4e",
   "metadata": {},
   "outputs": [],
   "source": []
  },
  {
   "cell_type": "code",
   "execution_count": null,
   "id": "52746c0a-bd6b-47c4-a005-719ceab74ffd",
   "metadata": {},
   "outputs": [],
   "source": []
  }
 ],
 "metadata": {
  "kernelspec": {
   "display_name": "Python 3 (ipykernel)",
   "language": "python",
   "name": "python3"
  },
  "language_info": {
   "codemirror_mode": {
    "name": "ipython",
    "version": 3
   },
   "file_extension": ".py",
   "mimetype": "text/x-python",
   "name": "python",
   "nbconvert_exporter": "python",
   "pygments_lexer": "ipython3",
   "version": "3.12.3"
  }
 },
 "nbformat": 4,
 "nbformat_minor": 5
}
